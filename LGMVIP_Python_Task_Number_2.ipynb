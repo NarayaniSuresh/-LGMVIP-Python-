{
  "nbformat": 4,
  "nbformat_minor": 0,
  "metadata": {
    "colab": {
      "provenance": [],
      "authorship_tag": "ABX9TyPrgYAbMAfKQs7tNGat64uD",
      "include_colab_link": true
    },
    "kernelspec": {
      "name": "python3",
      "display_name": "Python 3"
    },
    "language_info": {
      "name": "python"
    }
  },
  "cells": [
    {
      "cell_type": "markdown",
      "metadata": {
        "id": "view-in-github",
        "colab_type": "text"
      },
      "source": [
        "<a href=\"https://colab.research.google.com/github/NarayaniSuresh/-LGMVIP-Python-/blob/main/LGMVIP_Python_Task_Number_2.ipynb\" target=\"_parent\"><img src=\"https://colab.research.google.com/assets/colab-badge.svg\" alt=\"Open In Colab\"/></a>"
      ]
    },
    {
      "cell_type": "code",
      "source": [
        "!pip install pyvirtualdisplay\n"
      ],
      "metadata": {
        "colab": {
          "base_uri": "https://localhost:8080/"
        },
        "id": "FO8qX3qFZ3Qd",
        "outputId": "213d1aa3-408b-4797-8e02-abda6c23cfb6"
      },
      "execution_count": 7,
      "outputs": [
        {
          "output_type": "stream",
          "name": "stdout",
          "text": [
            "Collecting pyvirtualdisplay\n",
            "  Downloading PyVirtualDisplay-3.0-py3-none-any.whl.metadata (943 bytes)\n",
            "Downloading PyVirtualDisplay-3.0-py3-none-any.whl (15 kB)\n",
            "Installing collected packages: pyvirtualdisplay\n",
            "Successfully installed pyvirtualdisplay-3.0\n"
          ]
        }
      ]
    },
    {
      "cell_type": "code",
      "source": [
        "!apt-get install xvfb\n"
      ],
      "metadata": {
        "colab": {
          "base_uri": "https://localhost:8080/"
        },
        "id": "a0ML4HvYZ4a1",
        "outputId": "5e1ec0fe-fc72-4861-9088-fb4b9d454f96"
      },
      "execution_count": 8,
      "outputs": [
        {
          "output_type": "stream",
          "name": "stdout",
          "text": [
            "Reading package lists... Done\n",
            "Building dependency tree... Done\n",
            "Reading state information... Done\n",
            "The following additional packages will be installed:\n",
            "  libfontenc1 libxfont2 libxkbfile1 x11-xkb-utils xfonts-base xfonts-encodings xfonts-utils\n",
            "  xserver-common\n",
            "The following NEW packages will be installed:\n",
            "  libfontenc1 libxfont2 libxkbfile1 x11-xkb-utils xfonts-base xfonts-encodings xfonts-utils\n",
            "  xserver-common xvfb\n",
            "0 upgraded, 9 newly installed, 0 to remove and 45 not upgraded.\n",
            "Need to get 7,813 kB of archives.\n",
            "After this operation, 11.9 MB of additional disk space will be used.\n",
            "Get:1 http://archive.ubuntu.com/ubuntu jammy/main amd64 libfontenc1 amd64 1:1.1.4-1build3 [14.7 kB]\n",
            "Get:2 http://archive.ubuntu.com/ubuntu jammy/main amd64 libxfont2 amd64 1:2.0.5-1build1 [94.5 kB]\n",
            "Get:3 http://archive.ubuntu.com/ubuntu jammy/main amd64 libxkbfile1 amd64 1:1.1.0-1build3 [71.8 kB]\n",
            "Get:4 http://archive.ubuntu.com/ubuntu jammy/main amd64 x11-xkb-utils amd64 7.7+5build4 [172 kB]\n",
            "Get:5 http://archive.ubuntu.com/ubuntu jammy/main amd64 xfonts-encodings all 1:1.0.5-0ubuntu2 [578 kB]\n",
            "Get:6 http://archive.ubuntu.com/ubuntu jammy/main amd64 xfonts-utils amd64 1:7.7+6build2 [94.6 kB]\n",
            "Get:7 http://archive.ubuntu.com/ubuntu jammy/main amd64 xfonts-base all 1:1.0.5 [5,896 kB]\n",
            "Get:8 http://archive.ubuntu.com/ubuntu jammy-updates/main amd64 xserver-common all 2:21.1.4-2ubuntu1.7~22.04.11 [28.6 kB]\n",
            "Get:9 http://archive.ubuntu.com/ubuntu jammy-updates/universe amd64 xvfb amd64 2:21.1.4-2ubuntu1.7~22.04.11 [863 kB]\n",
            "Fetched 7,813 kB in 3s (2,989 kB/s)\n",
            "Selecting previously unselected package libfontenc1:amd64.\n",
            "(Reading database ... 123594 files and directories currently installed.)\n",
            "Preparing to unpack .../0-libfontenc1_1%3a1.1.4-1build3_amd64.deb ...\n",
            "Unpacking libfontenc1:amd64 (1:1.1.4-1build3) ...\n",
            "Selecting previously unselected package libxfont2:amd64.\n",
            "Preparing to unpack .../1-libxfont2_1%3a2.0.5-1build1_amd64.deb ...\n",
            "Unpacking libxfont2:amd64 (1:2.0.5-1build1) ...\n",
            "Selecting previously unselected package libxkbfile1:amd64.\n",
            "Preparing to unpack .../2-libxkbfile1_1%3a1.1.0-1build3_amd64.deb ...\n",
            "Unpacking libxkbfile1:amd64 (1:1.1.0-1build3) ...\n",
            "Selecting previously unselected package x11-xkb-utils.\n",
            "Preparing to unpack .../3-x11-xkb-utils_7.7+5build4_amd64.deb ...\n",
            "Unpacking x11-xkb-utils (7.7+5build4) ...\n",
            "Selecting previously unselected package xfonts-encodings.\n",
            "Preparing to unpack .../4-xfonts-encodings_1%3a1.0.5-0ubuntu2_all.deb ...\n",
            "Unpacking xfonts-encodings (1:1.0.5-0ubuntu2) ...\n",
            "Selecting previously unselected package xfonts-utils.\n",
            "Preparing to unpack .../5-xfonts-utils_1%3a7.7+6build2_amd64.deb ...\n",
            "Unpacking xfonts-utils (1:7.7+6build2) ...\n",
            "Selecting previously unselected package xfonts-base.\n",
            "Preparing to unpack .../6-xfonts-base_1%3a1.0.5_all.deb ...\n",
            "Unpacking xfonts-base (1:1.0.5) ...\n",
            "Selecting previously unselected package xserver-common.\n",
            "Preparing to unpack .../7-xserver-common_2%3a21.1.4-2ubuntu1.7~22.04.11_all.deb ...\n",
            "Unpacking xserver-common (2:21.1.4-2ubuntu1.7~22.04.11) ...\n",
            "Selecting previously unselected package xvfb.\n",
            "Preparing to unpack .../8-xvfb_2%3a21.1.4-2ubuntu1.7~22.04.11_amd64.deb ...\n",
            "Unpacking xvfb (2:21.1.4-2ubuntu1.7~22.04.11) ...\n",
            "Setting up libfontenc1:amd64 (1:1.1.4-1build3) ...\n",
            "Setting up xfonts-encodings (1:1.0.5-0ubuntu2) ...\n",
            "Setting up libxkbfile1:amd64 (1:1.1.0-1build3) ...\n",
            "Setting up libxfont2:amd64 (1:2.0.5-1build1) ...\n",
            "Setting up x11-xkb-utils (7.7+5build4) ...\n",
            "Setting up xfonts-utils (1:7.7+6build2) ...\n",
            "Setting up xfonts-base (1:1.0.5) ...\n",
            "Setting up xserver-common (2:21.1.4-2ubuntu1.7~22.04.11) ...\n",
            "Setting up xvfb (2:21.1.4-2ubuntu1.7~22.04.11) ...\n",
            "Processing triggers for man-db (2.10.2-1) ...\n",
            "Processing triggers for fontconfig (2.13.1-4.2ubuntu5) ...\n",
            "Processing triggers for libc-bin (2.35-0ubuntu3.4) ...\n",
            "/sbin/ldconfig.real: /usr/local/lib/libtbbbind_2_5.so.3 is not a symbolic link\n",
            "\n",
            "/sbin/ldconfig.real: /usr/local/lib/libtbbmalloc_proxy.so.2 is not a symbolic link\n",
            "\n",
            "/sbin/ldconfig.real: /usr/local/lib/libur_adapter_opencl.so.0 is not a symbolic link\n",
            "\n",
            "/sbin/ldconfig.real: /usr/local/lib/libur_loader.so.0 is not a symbolic link\n",
            "\n",
            "/sbin/ldconfig.real: /usr/local/lib/libur_adapter_level_zero.so.0 is not a symbolic link\n",
            "\n",
            "/sbin/ldconfig.real: /usr/local/lib/libtbbmalloc.so.2 is not a symbolic link\n",
            "\n",
            "/sbin/ldconfig.real: /usr/local/lib/libtbb.so.12 is not a symbolic link\n",
            "\n",
            "/sbin/ldconfig.real: /usr/local/lib/libtbbbind_2_0.so.3 is not a symbolic link\n",
            "\n",
            "/sbin/ldconfig.real: /usr/local/lib/libtbbbind.so.3 is not a symbolic link\n",
            "\n"
          ]
        }
      ]
    },
    {
      "cell_type": "code",
      "execution_count": 9,
      "metadata": {
        "id": "ATdT3KryY5PN"
      },
      "outputs": [],
      "source": [
        "import turtle\n",
        "import time\n",
        "import random\n",
        "from pyvirtualdisplay import Display"
      ]
    },
    {
      "cell_type": "code",
      "source": [
        "# Start the virtual display\n",
        "display = Display(visible=0, size=(600, 600))\n",
        "display.start()"
      ],
      "metadata": {
        "colab": {
          "base_uri": "https://localhost:8080/"
        },
        "id": "gCblPNvaZwIZ",
        "outputId": "48771414-dc31-453a-f0e9-3a68ced8973a"
      },
      "execution_count": 10,
      "outputs": [
        {
          "output_type": "execute_result",
          "data": {
            "text/plain": [
              "<pyvirtualdisplay.display.Display at 0x7eae081c1810>"
            ]
          },
          "metadata": {},
          "execution_count": 10
        }
      ]
    },
    {
      "cell_type": "code",
      "source": [
        "wn = turtle.Screen()\n",
        "wn.title(\"Snake Game by OpenAI\")\n",
        "wn.bgcolor(\"green\")\n",
        "wn.setup(width=600, height=600)\n",
        "wn.tracer(0)  # Turns off the screen updates\n"
      ],
      "metadata": {
        "id": "-hF6ZAjsZCCS"
      },
      "execution_count": 11,
      "outputs": []
    },
    {
      "cell_type": "code",
      "source": [
        "head = turtle.Turtle()\n",
        "head.speed(0)\n",
        "head.shape(\"square\")\n",
        "head.color(\"black\")\n",
        "head.penup()\n",
        "head.goto(0, 0)\n",
        "head.direction = \"stop\"\n",
        "\n",
        "\n"
      ],
      "metadata": {
        "id": "HNyXSPwUZC4y"
      },
      "execution_count": 12,
      "outputs": []
    },
    {
      "cell_type": "code",
      "source": [
        "food = turtle.Turtle()\n",
        "food.speed(0)\n",
        "food.shape(\"circle\")\n",
        "food.color(\"red\")\n",
        "food.penup()\n",
        "food.goto(0, 100)\n"
      ],
      "metadata": {
        "id": "PTihdSc5ZGKG"
      },
      "execution_count": 13,
      "outputs": []
    },
    {
      "cell_type": "code",
      "source": [
        "segments = []\n"
      ],
      "metadata": {
        "id": "v0Wp48AsZH_u"
      },
      "execution_count": 14,
      "outputs": []
    },
    {
      "cell_type": "code",
      "source": [
        "score = 0\n",
        "high_score = 0\n",
        "\n",
        "pen = turtle.Turtle()\n",
        "pen.speed(0)\n",
        "pen.shape(\"square\")\n",
        "pen.color(\"white\")\n",
        "pen.penup()\n",
        "pen.hideturtle()\n",
        "pen.goto(0, 260)\n",
        "pen.write(\"Score: 0  High Score: 0\", align=\"center\", font=(\"Courier\", 24, \"normal\"))\n"
      ],
      "metadata": {
        "id": "BJ-NBpUHZIhT"
      },
      "execution_count": 15,
      "outputs": []
    },
    {
      "cell_type": "code",
      "source": [
        "def go_up():\n",
        "    if head.direction != \"down\":\n",
        "        head.direction = \"up\"\n",
        "\n",
        "def go_down():\n",
        "    if head.direction != \"up\":\n",
        "        head.direction = \"down\"\n",
        "\n",
        "def go_left():\n",
        "    if head.direction != \"right\":\n",
        "        head.direction = \"left\"\n",
        "\n",
        "def go_right():\n",
        "    if head.direction != \"left\":\n",
        "        head.direction = \"right\"\n"
      ],
      "metadata": {
        "id": "vF6AsZspZKit"
      },
      "execution_count": 16,
      "outputs": []
    },
    {
      "cell_type": "code",
      "source": [
        "def move():\n",
        "    if head.direction == \"up\":\n",
        "        y = head.ycor()\n",
        "        head.sety(y + 20)\n",
        "\n",
        "    if head.direction == \"down\":\n",
        "        y = head.ycor()\n",
        "        head.sety(y - 20)\n",
        "\n",
        "    if head.direction == \"left\":\n",
        "        x = head.xcor()\n",
        "        head.setx(x - 20)\n",
        "\n",
        "    if head.direction == \"right\":\n",
        "        x = head.xcor()\n",
        "        head.setx(x + 20)\n"
      ],
      "metadata": {
        "id": "8_9zY6fFZNqn"
      },
      "execution_count": 17,
      "outputs": []
    },
    {
      "cell_type": "code",
      "source": [
        "wn.listen()\n",
        "wn.onkeypress(go_up, \"w\")\n",
        "wn.onkeypress(go_down, \"s\")\n",
        "wn.onkeypress(go_left, \"a\")\n",
        "wn.onkeypress(go_right, \"d\")\n"
      ],
      "metadata": {
        "id": "yUld064bZOvM"
      },
      "execution_count": 18,
      "outputs": []
    },
    {
      "cell_type": "code",
      "source": [
        "while True:\n",
        "    wn.update()\n",
        "\n",
        "    # Check for collision with the border\n",
        "    if head.xcor()>290 or head.xcor()<-290 or head.ycor()>290 or head.ycor()<-290:\n",
        "        time.sleep(1)\n",
        "        head.goto(0,0)\n",
        "        head.direction = \"stop\"\n",
        "\n",
        "        # Hide the segments\n",
        "        for segment in segments:\n",
        "            segment.goto(1000, 1000)  # Move off-screen\n",
        "\n",
        "        # Clear the segments list\n",
        "        segments.clear()\n",
        "\n",
        "        # Reset the score\n",
        "        score = 0\n",
        "\n",
        "        # Update the score display\n",
        "        pen.clear()\n",
        "        pen.write(\"Score: {}  High Score: {}\".format(score, high_score),\n",
        "                  align=\"center\", font=(\"Courier\", 24, \"normal\"))\n",
        "\n",
        "    # Check for collision with the food\n",
        "    if head.distance(food) < 20:\n",
        "        # Move the food to a random spot\n",
        "        x = random.randint(-290, 290)\n",
        "        y = random.randint(-290, 290)\n",
        "        food.goto(x, y)\n",
        "\n",
        "        # Add a segment\n",
        "        new_segment = turtle.Turtle()\n",
        "        new_segment.speed(0)\n",
        "        new_segment.shape(\"square\")\n",
        "        new_segment.color(\"grey\")\n",
        "        new_segment.penup()\n",
        "        segments.append(new_segment)\n",
        "\n",
        "        # Shorten the delay\n",
        "        delay = 0.1\n",
        "\n",
        "        # Increase the score\n",
        "        score += 10\n",
        "\n",
        "        if score > high_score:\n",
        "            high_score = score\n",
        "\n",
        "        pen.clear()\n",
        "        pen.write(\"Score: {}  High Score: {}\".format(score, high_score),\n",
        "                  align=\"center\", font=(\"Courier\", 24, \"normal\"))\n",
        "\n",
        "    # Move the end segments first in reverse order\n",
        "    for index in range(len(segments)-1, 0, -1):\n",
        "        x = segments[index -1].xcor()\n",
        "        y = segments[index -1].ycor()\n",
        "        segments[index].goto(x, y)\n",
        "\n",
        "    # Move segment 0 to where the head is\n",
        "    if len(segments) > 0:\n",
        "        x = head.xcor()\n",
        "        y = head.ycor()\n",
        "        segments[0].goto(x, y)\n",
        "\n",
        "    move()\n",
        "\n",
        "    # Check for head collision with the body segments\n",
        "    for segment in segments:\n",
        "        if segment.distance(head) < 20:\n",
        "            time.sleep(1)\n",
        "            head.goto(0,0)\n",
        "            head.direction = \"stop\"\n",
        "\n",
        "            # Hide the segments\n",
        "            for segment in segments:\n",
        "                segment.goto(1000, 1000)\n",
        "\n",
        "            # Clear the segments list\n",
        "            segments.clear()\n",
        "\n",
        "            # Reset the score\n",
        "            score = 0\n",
        "\n",
        "            # Update the score display\n",
        "            pen.clear()\n",
        "            pen.write(\"Score: {}  High Score: {}\".format(score, high_score),\n",
        "                      align=\"center\", font=(\"Courier\", 24, \"normal\"))\n",
        "\n",
        "    time.sleep(0.1)\n"
      ],
      "metadata": {
        "id": "KuyUuNT7ZQDT"
      },
      "execution_count": null,
      "outputs": []
    },
    {
      "cell_type": "code",
      "source": [
        "display.stop()"
      ],
      "metadata": {
        "id": "XULVgYmJaMTD"
      },
      "execution_count": null,
      "outputs": []
    }
  ]
}